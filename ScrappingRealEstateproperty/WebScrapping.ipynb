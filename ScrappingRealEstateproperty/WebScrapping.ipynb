{
 "cells": [
  {
   "cell_type": "code",
   "execution_count": 77,
   "metadata": {},
   "outputs": [
    {
     "name": "stdout",
     "output_type": "stream",
     "text": [
      "3\n"
     ]
    },
    {
     "data": {
      "text/plain": [
       "10"
      ]
     },
     "execution_count": 77,
     "metadata": {},
     "output_type": "execute_result"
    }
   ],
   "source": [
    "import requests\n",
    "from bs4 import BeautifulSoup\n",
    "\n",
    "r = requests.get(\"http://www.pyclass.com/real-estate/rock-springs-wy/LCWYROCKSPRINGS/\", headers={'User-agent': 'Mozilla/5.0 (X11; Ubuntu; Linux x86_64; rv:61.0) Gecko/20100101 Firefox/61.0'})\n",
    "c= r.content\n",
    "soup= BeautifulSoup(c,\"html.parser\")\n",
    "#print(soup.prettify())\n",
    "\n",
    "page_nr=soup.find_all(\"a\",{\"class\":\"Page\"})[-1].text\n",
    "print(page_nr)\n",
    "all=soup.find_all(\"div\", {\"class\" :\"propertyRow\" })\n",
    "len(all)\n",
    "#all[0].find_all(\"h4\",{\"class\":\"propPrice\"})[0].text.replace(\"\\n\",\"\").replace(\" \",\"\")\n",
    "#all[0].find(\"h4\",{\"class\":\"propPrice\"}).text.replace(\"\\n\",\"\").replace(\" \",\"\")"
   ]
  },
  {
   "cell_type": "code",
   "execution_count": 78,
   "metadata": {},
   "outputs": [
    {
     "name": "stdout",
     "output_type": "stream",
     "text": [
      "http://www.pyclass.com/real-estate/rock-springs-wy/LCWYROCKSPRINGS/t=0&s=0.html\n",
      "http://www.pyclass.com/real-estate/rock-springs-wy/LCWYROCKSPRINGS/t=0&s=10.html\n",
      "http://www.pyclass.com/real-estate/rock-springs-wy/LCWYROCKSPRINGS/t=0&s=20.html\n"
     ]
    }
   ],
   "source": [
    "l=[]\n",
    "base_url=\"http://www.pyclass.com/real-estate/rock-springs-wy/LCWYROCKSPRINGS/t=0&s=\"\n",
    "for page in range(0,int(page_nr)*10,10):\n",
    "    #print(page)\n",
    "    print(base_url+str(page)+\".html\" )\n",
    "    r= requests.get(base_url+str(page)+\".html\", headers={'User-agent': 'Mozilla/5.0 (X11; Ubuntu; Linux x86_64; rv:61.0) Gecko/20100101 Firefox/61.0'})\n",
    "    c=r.content\n",
    "    soup=BeautifulSoup(c,\"html.parser\")\n",
    "    all=soup.find_all(\"div\", {\"class\" :\"propertyRow\" })\n",
    "    for item in all:\n",
    "        d={}\n",
    "        d[\"Price\"]=item.find(\"h4\",{\"class\":\"propPrice\"}).text.replace(\"\\n\",\"\").replace(\" \",\"\")\n",
    "        d[\"Address\"]=item.find_all(\"span\",{\"class\":\"propAddressCollapse\"})[0].text\n",
    "        d[\"Locality\"]=item.find_all(\"span\",{\"class\":\"propAddressCollapse\"})[1].text\n",
    "        try: \n",
    "            #print(item.find(\"span\", {\"class\":\"infoBed\"}).text)\n",
    "            d[\"Bed\"]=item.find(\"span\", {\"class\":\"infoBed\"}).find(\"b\").text\n",
    "        except:\n",
    "            d[\"Bed\"]=\"None\"\n",
    "        try: \n",
    "            #print(item.find(\"span\", {\"class\":\"infoSqft\"}).text)\n",
    "            d[\"Area\"]=item.find(\"span\", {\"class\":\"infoSqft\"}).find(\"b\").text\n",
    "        except:\n",
    "            d[\"Area\"]=\"None\"        \n",
    "        try: \n",
    "            #print(item.find(\"span\", {\"class\":\"infoValueFullBed\"}).text)\n",
    "            d[\"Full Bath\"]=item.find(\"span\", {\"class\":\"infoValueFullBath\"}).find(\"b\").text\n",
    "        except:\n",
    "            d[\"Full Bath\"]=\"None\"\n",
    "\n",
    "        try: \n",
    "            #print(item.find(\"span\", {\"class\":\"infoValueHalfBath\"}).text)\n",
    "            d[\"Half Bath\"]=item.find(\"span\", {\"class\":\"infoValueHalfBath\"}).find(\"b\").text\n",
    "        except:\n",
    "            d[\"Haf Bath\"]=\"None\"\n",
    "\n",
    "        for column in item.find_all(\"div\", {\"class\":\"columnGroup\"}):\n",
    "            #print (column)\n",
    "            for feature_group, feature_name in zip(column.find_all(\"span\", {\"class\": \"featureGroup\"}),column.find_all(\"span\", {\"class\": \"featureName\"})):\n",
    "                #print(feature_group.text, feature_name.text)\n",
    "                if \"Lot Size\" in feature_group.text:\n",
    "                    d[\"Lot_Size\"]=feature_name.text\n",
    "        l.append(d) "
   ]
  },
  {
   "cell_type": "code",
   "execution_count": 82,
   "metadata": {},
   "outputs": [],
   "source": [
    "import pandas\n",
    "df=pandas.DataFrame(l)\n",
    "df\n",
    "df.to_csv(\"Output.csv\")"
   ]
  }
 ],
 "metadata": {
  "kernelspec": {
   "display_name": "Python 3",
   "language": "python",
   "name": "python3"
  },
  "language_info": {
   "codemirror_mode": {
    "name": "ipython",
    "version": 3
   },
   "file_extension": ".py",
   "mimetype": "text/x-python",
   "name": "python",
   "nbconvert_exporter": "python",
   "pygments_lexer": "ipython3",
   "version": "3.8.3"
  }
 },
 "nbformat": 4,
 "nbformat_minor": 4
}
